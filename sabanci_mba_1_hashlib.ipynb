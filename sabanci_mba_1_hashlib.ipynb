{
  "cells": [
    {
      "cell_type": "code",
      "execution_count": null,
      "metadata": {
        "id": "2HuQ2nN6sIT_"
      },
      "outputs": [],
      "source": [
        "import hashlib"
      ]
    },
    {
      "cell_type": "code",
      "execution_count": null,
      "metadata": {
        "colab": {
          "base_uri": "https://localhost:8080/"
        },
        "id": "sq6lL1gksLCc",
        "outputId": "bb671cac-f41e-4aab-c86a-5b9929c2c0d0"
      },
      "outputs": [
        {
          "output_type": "execute_result",
          "data": {
            "text/plain": [
              "<sha256 HASH object @ 0x7f7d3f132d50>"
            ]
          },
          "metadata": {},
          "execution_count": 2
        }
      ],
      "source": [
        "hashlib.sha256(\"barış\".encode(\"utf-8\"))"
      ]
    },
    {
      "cell_type": "code",
      "execution_count": null,
      "metadata": {
        "colab": {
          "base_uri": "https://localhost:8080/",
          "height": 37
        },
        "id": "8ykEM9FEsNDf",
        "outputId": "24a421c0-2c97-4aa4-fd22-f6c682ad1d22"
      },
      "outputs": [
        {
          "output_type": "execute_result",
          "data": {
            "text/plain": [
              "'5b4eee98e291d406a5cf6e5d37338d844a9e06aec3e7d76b42e081c368498b7b'"
            ],
            "application/vnd.google.colaboratory.intrinsic+json": {
              "type": "string"
            }
          },
          "metadata": {},
          "execution_count": 3
        }
      ],
      "source": [
        "hashlib.sha256(\"barış\".encode(\"utf-8\")).hexdigest()"
      ]
    },
    {
      "cell_type": "code",
      "execution_count": null,
      "metadata": {
        "colab": {
          "base_uri": "https://localhost:8080/"
        },
        "id": "0fDfL6VEsk86",
        "outputId": "f47a1a1f-5d08-45a2-8ea1-f9721e1a17c8"
      },
      "outputs": [
        {
          "output_type": "stream",
          "name": "stdout",
          "text": [
            "John gave Bill 10$,stamp=0       hash=837f65bdcfdbf63dd627274f5b3f33c3a786d12a3c008fdd88dd06f54a53d327\n",
            "John gave Bill 10$,stamp=1       hash=0f9dcf38181b8c1e14a0cae34709fdeba937c33b295442c3ab5cb199b4e6c49b\n",
            "John gave Bill 10$,stamp=2       hash=d473f503c8b35cee7d932f6c0ad1a85497a2db3c26aa55620acd0e7cebf85e03\n",
            "John gave Bill 10$,stamp=3       hash=df5bcb17504b8c1c67226b047f55386c1211eec8a3ec23e6c68eee5b44b1acbf\n",
            "John gave Bill 10$,stamp=4       hash=616d80851415e7435d1d914364eb981faa1702a4f8c7a9e21e5c115936c0c33e\n",
            "John gave Bill 10$,stamp=5       hash=be4da1d61c017774ec9d8748e1c7ed95d261738d2da6a6692605f4f584340950\n",
            "John gave Bill 10$,stamp=6       hash=4eecfa04b1c343bb5f254a67f177a18c8dd148e5c9a50be933d7ac8710f1d35b\n",
            "John gave Bill 10$,stamp=7       hash=3daf8b544a0331a3fd1692ecbc9316b50782293d31190e632e0848e2cf5f5c8f\n",
            "John gave Bill 10$,stamp=8       hash=cd20410f04fc01fb450638fd39823ae0d2f6b190a3f248ef7ac465905b43a918\n",
            "John gave Bill 10$,stamp=9       hash=756f74414407b3018958953e8c96b9da86a54ea176b89b73bce87abe50fedc7f\n"
          ]
        }
      ],
      "source": [
        "record=\"John gave Bill 10$\"\n",
        "for i in range(0,10):\n",
        "  message=record+\",stamp=\"+str(i)\n",
        "  hash=hashlib.sha256(message.encode(\"utf-8\")).hexdigest()\n",
        "  print(message+\"       hash=\"+hash)"
      ]
    },
    {
      "cell_type": "code",
      "execution_count": null,
      "metadata": {
        "colab": {
          "base_uri": "https://localhost:8080/"
        },
        "id": "cy49ZkWgs_XQ",
        "outputId": "87af0410-3673-45f6-a430-627dee8a5ac0"
      },
      "outputs": [
        {
          "output_type": "stream",
          "name": "stdout",
          "text": [
            "John gave Bill 10$,stamp=1729706       hash=0000025951d7e1bff1358064bc2ec9f624e573ad9b42a35a800be781f181e8e5\n"
          ]
        }
      ],
      "source": [
        "difficulty=5\n",
        "record=\"John gave Bill 10$\"\n",
        "for i in range(0,100000000):\n",
        "  message=record+\",stamp=\"+str(i)\n",
        "  hash=hashlib.sha256(message.encode(\"utf-8\")).hexdigest()\n",
        "  if(hash[0:difficulty]==(\"0\"*difficulty)):\n",
        "     print(message+\"       hash=\"+hash)\n",
        "     break;"
      ]
    },
    {
      "cell_type": "code",
      "execution_count": null,
      "metadata": {
        "id": "M19LCghPtVbb"
      },
      "outputs": [],
      "source": [
        "import time"
      ]
    },
    {
      "cell_type": "code",
      "execution_count": null,
      "metadata": {
        "colab": {
          "base_uri": "https://localhost:8080/"
        },
        "id": "oczrkWF7tlj5",
        "outputId": "a054d839-d214-4f1e-f091-ee105ead25b9"
      },
      "outputs": [
        {
          "output_type": "stream",
          "name": "stdout",
          "text": [
            "John gave Bill 10$,stamp=5717476       hash=00000084503cf40f9053b9a6914a5aa2f9c9df8a543a4ce22933e4cfee5cdf06     in seconds 6.513302564620972\n"
          ]
        }
      ],
      "source": [
        "start=time.time()\n",
        "difficulty=6\n",
        "record=\"John gave Bill 10$\"\n",
        "for i in range(0,100000000):\n",
        "  message=record+\",stamp=\"+str(i)\n",
        "  hash=hashlib.sha256(message.encode(\"utf-8\")).hexdigest()\n",
        "  if(hash[0:difficulty]==(\"0\"*difficulty)):\n",
        "     end=time.time()\n",
        "     print(message+\"       hash=\"+hash+ \"     in seconds \"+str(end-start))\n",
        "     break;"
      ]
    },
    {
      "cell_type": "code",
      "execution_count": null,
      "metadata": {
        "id": "p6RnE21utxBG"
      },
      "outputs": [],
      "source": []
    }
  ],
  "metadata": {
    "colab": {
      "collapsed_sections": [],
      "provenance": []
    },
    "kernelspec": {
      "display_name": "Python 3",
      "name": "python3"
    },
    "language_info": {
      "name": "python"
    }
  },
  "nbformat": 4,
  "nbformat_minor": 0
}