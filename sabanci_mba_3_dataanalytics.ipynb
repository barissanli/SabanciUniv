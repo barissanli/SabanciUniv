{
  "cells": [
    {
      "cell_type": "markdown",
      "id": "7369ee3f",
      "metadata": {
        "id": "7369ee3f"
      },
      "source": [
        "# Ember electricity database\n",
        "\n",
        "Barış Sanlı, barissanli2@gmail.com\n",
        "\n",
        "Ember has an excellent database for monthly electricity data\n",
        "This book has two sections\n",
        "#### 1. Exploring the database\n",
        "#### 2. Interactive widget based plotting"
      ]
    },
    {
      "cell_type": "code",
      "execution_count": null,
      "id": "ec2ec662",
      "metadata": {
        "id": "ec2ec662"
      },
      "outputs": [],
      "source": [
        "# Ana web sitesi: https://ember-climate.org/data-catalogue/monthly-electricity-data/\n",
        "# veri adresi yıl ve aylara göre değişiyor /YIL/AY/\n",
        "# https://ember-climate.org/app/uploads/2022/07/monthly_full_release_long_format.csv"
      ]
    },
    {
      "cell_type": "code",
      "execution_count": null,
      "id": "5fa9dc95",
      "metadata": {
        "id": "5fa9dc95"
      },
      "outputs": [],
      "source": [
        "%matplotlib inline\n",
        "import matplotlib.pyplot as plt\n",
        "import pandas as pd"
      ]
    },
    {
      "cell_type": "code",
      "execution_count": null,
      "id": "49c6897a",
      "metadata": {
        "id": "49c6897a"
      },
      "outputs": [],
      "source": [
        "import requests \n",
        "from urllib.request import urlopen\n",
        "\n",
        "link=\"https://ember-climate.org/app/uploads/2022/07/monthly_full_release_long_format.csv\"\n",
        "\n",
        "\n",
        "# orjinal kod : https://stackoverflow.com/questions/65020294/downloading-a-zipped-file-using-python-3-7\n",
        "\n",
        "def download_url(url, save_path, chunk_size=128):\n",
        "    r = requests.get(url, stream=True)\n",
        "    with open(save_path, 'wb') as fd:\n",
        "        for chunk in r.iter_content(chunk_size=chunk_size):\n",
        "            fd.write(chunk)\n",
        "\n",
        "            \n",
        "#ilk sefer indir, ikinci çalışmada tekrar tekrar indirmeye gerek kalmasın\n",
        "download_url(link,\"./ember.csv\")"
      ]
    },
    {
      "cell_type": "code",
      "execution_count": null,
      "id": "ca2c2fee",
      "metadata": {
        "id": "ca2c2fee"
      },
      "outputs": [],
      "source": [
        "df = pd.read_csv('ember.csv')\n",
        "#df = pd.read_csv(link)"
      ]
    },
    {
      "cell_type": "code",
      "execution_count": null,
      "id": "7a0f4742",
      "metadata": {
        "colab": {
          "base_uri": "https://localhost:8080/"
        },
        "id": "7a0f4742",
        "outputId": "78e812e1-066a-4309-fd84-7c9bcab29934"
      },
      "outputs": [
        {
          "output_type": "execute_result",
          "data": {
            "text/plain": [
              "Index(['Area', 'Country code', 'Date', 'Area type', 'Continent',\n",
              "       'Ember region', 'EU', 'OECD', 'G20', 'G7', 'Category', 'Subcategory',\n",
              "       'Variable', 'Unit', 'Value', 'YoY absolute change', 'YoY % change'],\n",
              "      dtype='object')"
            ]
          },
          "metadata": {},
          "execution_count": 5
        }
      ],
      "source": [
        "df.columns"
      ]
    },
    {
      "cell_type": "code",
      "execution_count": null,
      "id": "6781d7e4",
      "metadata": {
        "colab": {
          "base_uri": "https://localhost:8080/"
        },
        "id": "6781d7e4",
        "outputId": "0b2f54cc-f7cc-4389-84d1-91f460004902"
      },
      "outputs": [
        {
          "output_type": "execute_result",
          "data": {
            "text/plain": [
              "array(['Argentina', 'Armenia', 'Asia', 'Australia', 'Austria',\n",
              "       'Azerbaijan', 'Bangladesh', 'Belarus', 'Belgium', 'Bolivia',\n",
              "       'Brazil', 'Bulgaria', 'Burundi', 'Canada', 'Chile', 'China',\n",
              "       'Costa Rica', 'Croatia', 'Cyprus', 'Czechia', 'Denmark', 'Ecuador',\n",
              "       'Egypt', 'El Salvador', 'Estonia', 'EU', 'Europe', 'Finland',\n",
              "       'France', 'G20', 'G7', 'Georgia', 'Germany', 'Greece', 'Hungary',\n",
              "       'India', 'Ireland', 'Italy', 'Japan', 'Kenya', 'Kosovo',\n",
              "       'Latin America and Caribbean', 'Latvia', 'Lithuania', 'Luxembourg',\n",
              "       'Malta', 'Mexico', 'Moldova', 'Mongolia', 'Montenegro',\n",
              "       'Netherlands', 'New Zealand', 'North America', 'North Macedonia',\n",
              "       'Norway', 'OECD', 'Pakistan', 'Peru', 'Philippines (the)',\n",
              "       'Poland', 'Portugal', 'Romania', 'Russian Federation (the)',\n",
              "       'Senegal', 'Serbia', 'Singapore', 'Slovakia', 'Slovenia',\n",
              "       'South Africa', 'South Korea', 'Spain', 'Sweden', 'Switzerland',\n",
              "       'Taiwan', 'Tajikistan', 'Thailand', 'Tunisia', 'Turkey', 'Ukraine',\n",
              "       'United Kingdom', 'United States of America', 'Uruguay',\n",
              "       'Viet Nam', 'World'], dtype=object)"
            ]
          },
          "metadata": {},
          "execution_count": 6
        }
      ],
      "source": [
        "df.Area.unique()"
      ]
    },
    {
      "cell_type": "code",
      "execution_count": null,
      "id": "e21111a3",
      "metadata": {
        "colab": {
          "base_uri": "https://localhost:8080/"
        },
        "id": "e21111a3",
        "outputId": "0e92902b-6e50-4115-e26b-f27bcd648203"
      },
      "outputs": [
        {
          "output_type": "execute_result",
          "data": {
            "text/plain": [
              "array(['Demand', 'Clean', 'Fossil', 'Gas and Other Fossil',\n",
              "       'Hydro, Bioenergy and Other Renewables', 'Renewables',\n",
              "       'Wind and Solar', 'Bioenergy', 'Coal', 'Gas', 'Hydro', 'Nuclear',\n",
              "       'Other Fossil', 'Solar', 'Wind', 'Total Generation', 'Net Imports',\n",
              "       'CO2 intensity', 'Total emissions', 'Other Renewables',\n",
              "       'Day-ahead electricity price'], dtype=object)"
            ]
          },
          "metadata": {},
          "execution_count": 7
        }
      ],
      "source": [
        "df.Variable.unique()"
      ]
    },
    {
      "cell_type": "code",
      "execution_count": null,
      "id": "910f49b5",
      "metadata": {
        "id": "910f49b5"
      },
      "outputs": [],
      "source": [
        "ulke=df[(df.Area=='Turkey') & (df.Variable=='Demand')]"
      ]
    },
    {
      "cell_type": "code",
      "execution_count": null,
      "id": "01eadba3",
      "metadata": {
        "id": "01eadba3"
      },
      "outputs": [],
      "source": [
        "plt.rcParams[\"figure.figsize\"]=[12.0,6.0]"
      ]
    },
    {
      "cell_type": "code",
      "execution_count": null,
      "id": "21cd6a32",
      "metadata": {
        "colab": {
          "base_uri": "https://localhost:8080/",
          "height": 455
        },
        "id": "21cd6a32",
        "outputId": "0acaaf62-87cd-41c2-bd4a-b17fc4d5f0c0"
      },
      "outputs": [
        {
          "output_type": "execute_result",
          "data": {
            "text/plain": [
              "Text(0, 0.5, 'TWh')"
            ]
          },
          "metadata": {},
          "execution_count": 10
        },
        {
          "output_type": "display_data",
          "data": {
            "text/plain": [
              "<Figure size 864x432 with 1 Axes>"
            ],
            "image/png": "[encoded data removed]"
          },
          "metadata": {
            "needs_background": "light"
          }
        }
      ],
      "source": [
        "plt.xticks(rotation=90)\n",
        "plt.plot(ulke.Date, ulke.Value.rolling(12).sum())\n",
        "plt.title(\"Türkiye'nin 12 aylık toplamsal elektrik talebi\")\n",
        "plt.ylabel(\"TWh\")"
      ]
    },
    {
      "cell_type": "code",
      "execution_count": null,
      "id": "77ccb517",
      "metadata": {
        "colab": {
          "base_uri": "https://localhost:8080/",
          "height": 142
        },
        "id": "77ccb517",
        "outputId": "6ee40048-a5df-4668-8b9a-04396c67b4be"
      },
      "outputs": [
        {
          "output_type": "execute_result",
          "data": {
            "text/plain": [
              "              Date  Value\n",
              "309098  2022-07-01  28.71\n",
              "309148  2022-08-01  31.50\n",
              "309198  2022-09-01  27.06"
            ],
            "text/html": [
              "\n",
              "  <div id=\"df-7e726f94-3fdf-4234-a730-20066611ca65\">\n",
              "    <div class=\"colab-df-container\">\n",
              "      <div>\n",
              "<style scoped>\n",
              "    .dataframe tbody tr th:only-of-type {\n",
              "        vertical-align: middle;\n",
              "    }\n",
              "\n",
              "    .dataframe tbody tr th {\n",
              "        vertical-align: top;\n",
              "    }\n",
              "\n",
              "    .dataframe thead th {\n",
              "        text-align: right;\n",
              "    }\n",
              "</style>\n",
              "<table border=\"1\" class=\"dataframe\">\n",
              "  <thead>\n",
              "    <tr style=\"text-align: right;\">\n",
              "      <th></th>\n",
              "      <th>Date</th>\n",
              "      <th>Value</th>\n",
              "    </tr>\n",
              "  </thead>\n",
              "  <tbody>\n",
              "    <tr>\n",
              "      <th>309098</th>\n",
              "      <td>2022-07-01</td>\n",
              "      <td>28.71</td>\n",
              "    </tr>\n",
              "    <tr>\n",
              "      <th>309148</th>\n",
              "      <td>2022-08-01</td>\n",
              "      <td>31.50</td>\n",
              "    </tr>\n",
              "    <tr>\n",
              "      <th>309198</th>\n",
              "      <td>2022-09-01</td>\n",
              "      <td>27.06</td>\n",
              "    </tr>\n",
              "  </tbody>\n",
              "</table>\n",
              "</div>\n",
              "      <button class=\"colab-df-convert\" onclick=\"convertToInteractive('df-7e726f94-3fdf-4234-a730-20066611ca65')\"\n",
              "              title=\"Convert this dataframe to an interactive table.\"\n",
              "              style=\"display:none;\">\n",
              "        \n",
              "  <svg xmlns=\"http://www.w3.org/2000/svg\" height=\"24px\"viewBox=\"0 0 24 24\"\n",
              "       width=\"24px\">\n",
              "    <path d=\"M0 0h24v24H0V0z\" fill=\"none\"/>\n",
              "    <path d=\"M18.56 5.44l.94 2.06.94-2.06 2.06-.94-2.06-.94-.94-2.06-.94 2.06-2.06.94zm-11 1L8.5 8.5l.94-2.06 2.06-.94-2.06-.94L8.5 2.5l-.94 2.06-2.06.94zm10 10l.94 2.06.94-2.06 2.06-.94-2.06-.94-.94-2.06-.94 2.06-2.06.94z\"/><path d=\"M17.41 7.96l-1.37-1.37c-.4-.4-.92-.59-1.43-.59-.52 0-1.04.2-1.43.59L10.3 9.45l-7.72 7.72c-.78.78-.78 2.05 0 2.83L4 21.41c.39.39.9.59 1.41.59.51 0 1.02-.2 1.41-.59l7.78-7.78 2.81-2.81c.8-.78.8-2.07 0-2.86zM5.41 20L4 18.59l7.72-7.72 1.47 1.35L5.41 20z\"/>\n",
              "  </svg>\n",
              "      </button>\n",
              "      \n",
              "  <style>\n",
              "    .colab-df-container {\n",
              "      display:flex;\n",
              "      flex-wrap:wrap;\n",
              "      gap: 12px;\n",
              "    }\n",
              "\n",
              "    .colab-df-convert {\n",
              "      background-color: #E8F0FE;\n",
              "      border: none;\n",
              "      border-radius: 50%;\n",
              "      cursor: pointer;\n",
              "      display: none;\n",
              "      fill: #1967D2;\n",
              "      height: 32px;\n",
              "      padding: 0 0 0 0;\n",
              "      width: 32px;\n",
              "    }\n",
              "\n",
              "    .colab-df-convert:hover {\n",
              "      background-color: #E2EBFA;\n",
              "      box-shadow: 0px 1px 2px rgba(60, 64, 67, 0.3), 0px 1px 3px 1px rgba(60, 64, 67, 0.15);\n",
              "      fill: #174EA6;\n",
              "    }\n",
              "\n",
              "    [theme=dark] .colab-df-convert {\n",
              "      background-color: #3B4455;\n",
              "      fill: #D2E3FC;\n",
              "    }\n",
              "\n",
              "    [theme=dark] .colab-df-convert:hover {\n",
              "      background-color: #434B5C;\n",
              "      box-shadow: 0px 1px 3px 1px rgba(0, 0, 0, 0.15);\n",
              "      filter: drop-shadow(0px 1px 2px rgba(0, 0, 0, 0.3));\n",
              "      fill: #FFFFFF;\n",
              "    }\n",
              "  </style>\n",
              "\n",
              "      <script>\n",
              "        const buttonEl =\n",
              "          document.querySelector('#df-7e726f94-3fdf-4234-a730-20066611ca65 button.colab-df-convert');\n",
              "        buttonEl.style.display =\n",
              "          google.colab.kernel.accessAllowed ? 'block' : 'none';\n",
              "\n",
              "        async function convertToInteractive(key) {\n",
              "          const element = document.querySelector('#df-7e726f94-3fdf-4234-a730-20066611ca65');\n",
              "          const dataTable =\n",
              "            await google.colab.kernel.invokeFunction('convertToInteractive',\n",
              "                                                     [key], {});\n",
              "          if (!dataTable) return;\n",
              "\n",
              "          const docLinkHtml = 'Like what you see? Visit the ' +\n",
              "            '<a target=\"_blank\" href=https://colab.research.google.com/notebooks/data_table.ipynb>data table notebook</a>'\n",
              "            + ' to learn more about interactive tables.';\n",
              "          element.innerHTML = '';\n",
              "          dataTable['output_type'] = 'display_data';\n",
              "          await google.colab.output.renderOutput(dataTable, element);\n",
              "          const docLink = document.createElement('div');\n",
              "          docLink.innerHTML = docLinkHtml;\n",
              "          element.appendChild(docLink);\n",
              "        }\n",
              "      </script>\n",
              "    </div>\n",
              "  </div>\n",
              "  "
            ]
          },
          "metadata": {},
          "execution_count": 11
        }
      ],
      "source": [
        "ulke[[\"Date\",\"Value\"]].tail(3)"
      ]
    },
    {
      "cell_type": "markdown",
      "id": "8227f4ca",
      "metadata": {
        "id": "8227f4ca"
      },
      "source": [
        "# 2. Interactive Plotting\n",
        "\n",
        "In this part we create an interactive plot"
      ]
    },
    {
      "cell_type": "code",
      "execution_count": null,
      "id": "b083b16a",
      "metadata": {
        "colab": {
          "base_uri": "https://localhost:8080/",
          "height": 530,
          "referenced_widgets": [
            "1250806ede26468eb9100119e7a88e6d",
            "90e1746c3f5d474290a7f7069f8a8627",
            "8f6f063c3dda47ecb410bc8b2dabce38",
            "4092a9f1e5c2479a9c36592cc720c7a1",
            "e2a3d505e99d48f489bad4b5828a593d",
            "ff7a59f5d87b4244a843b6b31452ceb9",
            "e250df7bd6234edd841b018ee71167e7",
            "d9af5b1e71af40b9ae71dfc9e5b4b730",
            "0d62dea89fb94f0eb7d5d4628d0290a3"
          ]
        },
        "id": "b083b16a",
        "outputId": "945c027d-c494-4345-e52c-5f944987043c"
      },
      "outputs": [
        {
          "output_type": "display_data",
          "data": {
            "text/plain": [
              "Dropdown(description='Country selection:', index=77, options=('Argentina', 'Armenia', 'Asia', 'Australia', 'Au…"
            ],
            "application/vnd.jupyter.widget-view+json": {
              "version_major": 2,
              "version_minor": 0,
              "model_id": "1250806ede26468eb9100119e7a88e6d"
            }
          },
          "metadata": {}
        },
        {
          "output_type": "display_data",
          "data": {
            "text/plain": [
              "Dropdown(description='Graph selection:', index=2, options=('Demand', 'Clean', 'Fossil', 'Gas and Other Fossil'…"
            ],
            "application/vnd.jupyter.widget-view+json": {
              "version_major": 2,
              "version_minor": 0,
              "model_id": "4092a9f1e5c2479a9c36592cc720c7a1"
            }
          },
          "metadata": {}
        },
        {
          "output_type": "display_data",
          "data": {
            "text/plain": [
              "Dropdown(description='Unit selection:', index=1, options=('TWh', '%', 'mtCO2', 'gCO2/kWh', 'EUR/MWh'), value='…"
            ],
            "application/vnd.jupyter.widget-view+json": {
              "version_major": 2,
              "version_minor": 0,
              "model_id": "e250df7bd6234edd841b018ee71167e7"
            }
          },
          "metadata": {}
        },
        {
          "output_type": "display_data",
          "data": {
            "text/plain": [
              "<Figure size 864x432 with 1 Axes>"
            ],
            "image/png": "[encoded data removed]"
          },
          "metadata": {
            "needs_background": "light"
          }
        }
      ],
      "source": [
        "from traitlets.traitlets import default\n",
        "from IPython.display import display, clear_output\n",
        "from ipywidgets import Dropdown\n",
        "\n",
        "def dropdown_eventhandler(change):\n",
        "  clear_output()\n",
        "  dataset= df[(df.Area==dropdown.value) & (df.Variable==dropdown2.value) & (df.Unit==dropdown3.value)]\n",
        "  plt.xticks(rotation=90)\n",
        "  plt.plot(dataset.Date, dataset.Value)\n",
        "  plt.title(dropdown.value + \" -  \"+dropdown2.value+\" (Ember Data)\")\n",
        "  plt.ylabel(dropdown3.value)\n",
        "  plt.grid(\"on\")\n",
        "  display(dropdown,dropdown2,dropdown3)\n",
        "\n",
        "\n",
        "dropdown = Dropdown(description=\"Country selection:\", options=df.Area.unique(),value=\"Turkey\")\n",
        "dropdown2 = Dropdown(description=\"Graph selection:\", options=df.Variable.unique(),value=\"Demand\")\n",
        "dropdown3 = Dropdown(description=\"Unit selection:\", options=df.Unit.unique(),value=\"TWh\")\n",
        "\n",
        "\n",
        "dropdown.observe(dropdown_eventhandler, names='value')\n",
        "dropdown2.observe(dropdown_eventhandler, names='value')\n",
        "dropdown3.observe(dropdown_eventhandler, names='value')\n",
        "\n",
        "\n",
        "clear_output()\n",
        "display(dropdown,dropdown2,dropdown3)"
      ]
    },
    {
      "cell_type": "code",
      "execution_count": null,
      "id": "aa882c20",
      "metadata": {
        "id": "aa882c20"
      },
      "outputs": [],
      "source": []
    }
  ],
  "metadata": {
    "kernelspec": {
      "display_name": "Python 3 (ipykernel)",
      "language": "python",
      "name": "python3"
    },
    "language_info": {
      "codemirror_mode": {
        "name": "ipython",
        "version": 3
      },
      "file_extension": ".py",
      "mimetype": "text/x-python",
      "name": "python",
      "nbconvert_exporter": "python",
      "pygments_lexer": "ipython3",
      "version": "3.9.13"
    },
    "colab": {
      "provenance": [],
      "collapsed_sections": []
    },
    "widgets": {
      "application/vnd.jupyter.widget-state+json": {
        "1250806ede26468eb9100119e7a88e6d": {
          "model_module": "@jupyter-widgets/controls",
          "model_name": "DropdownModel",
          "model_module_version": "1.5.0",
          "state": {
            "_dom_classes": [],
            "_model_module": "@jupyter-widgets/controls",
            "_model_module_version": "1.5.0",
            "_model_name": "DropdownModel",
            "_options_labels": [
              "Argentina",
              "Armenia",
              "Asia",
              "Australia",
              "Austria",
              "Azerbaijan",
              "Bangladesh",
              "Belarus",
              "Belgium",
              "Bolivia",
              "Brazil",
              "Bulgaria",
              "Burundi",
              "Canada",
              "Chile",
              "China",
              "Costa Rica",
              "Croatia",
              "Cyprus",
              "Czechia",
              "Denmark",
              "Ecuador",
              "Egypt",
              "El Salvador",
              "Estonia",
              "EU",
              "Europe",
              "Finland",
              "France",
              "G20",
              "G7",
              "Georgia",
              "Germany",
              "Greece",
              "Hungary",
              "India",
              "Ireland",
              "Italy",
              "Japan",
              "Kenya",
              "Kosovo",
              "Latin America and Caribbean",
              "Latvia",
              "Lithuania",
              "Luxembourg",
              "Malta",
              "Mexico",
              "Moldova",
              "Mongolia",
              "Montenegro",
              "Netherlands",
              "New Zealand",
              "North America",
              "North Macedonia",
              "Norway",
              "OECD",
              "Pakistan",
              "Peru",
              "Philippines (the)",
              "Poland",
              "Portugal",
              "Romania",
              "Russian Federation (the)",
              "Senegal",
              "Serbia",
              "Singapore",
              "Slovakia",
              "Slovenia",
              "South Africa",
              "South Korea",
              "Spain",
              "Sweden",
              "Switzerland",
              "Taiwan",
              "Tajikistan",
              "Thailand",
              "Tunisia",
              "Turkey",
              "Ukraine",
              "United Kingdom",
              "United States of America",
              "Uruguay",
              "Viet Nam",
              "World"
            ],
            "_view_count": null,
            "_view_module": "@jupyter-widgets/controls",
            "_view_module_version": "1.5.0",
            "_view_name": "DropdownView",
            "description": "Country selection:",
            "description_tooltip": null,
            "disabled": false,
            "index": 77,
            "layout": "IPY_MODEL_90e1746c3f5d474290a7f7069f8a8627",
            "style": "IPY_MODEL_8f6f063c3dda47ecb410bc8b2dabce38"
          }
        },
        "90e1746c3f5d474290a7f7069f8a8627": {
          "model_module": "@jupyter-widgets/base",
          "model_name": "LayoutModel",
          "model_module_version": "1.2.0",
          "state": {
            "_model_module": "@jupyter-widgets/base",
            "_model_module_version": "1.2.0",
            "_model_name": "LayoutModel",
            "_view_count": null,
            "_view_module": "@jupyter-widgets/base",
            "_view_module_version": "1.2.0",
            "_view_name": "LayoutView",
            "align_content": null,
            "align_items": null,
            "align_self": null,
            "border": null,
            "bottom": null,
            "display": null,
            "flex": null,
            "flex_flow": null,
            "grid_area": null,
            "grid_auto_columns": null,
            "grid_auto_flow": null,
            "grid_auto_rows": null,
            "grid_column": null,
            "grid_gap": null,
            "grid_row": null,
            "grid_template_areas": null,
            "grid_template_columns": null,
            "grid_template_rows": null,
            "height": null,
            "justify_content": null,
            "justify_items": null,
            "left": null,
            "margin": null,
            "max_height": null,
            "max_width": null,
            "min_height": null,
            "min_width": null,
            "object_fit": null,
            "object_position": null,
            "order": null,
            "overflow": null,
            "overflow_x": null,
            "overflow_y": null,
            "padding": null,
            "right": null,
            "top": null,
            "visibility": null,
            "width": null
          }
        },
        "8f6f063c3dda47ecb410bc8b2dabce38": {
          "model_module": "@jupyter-widgets/controls",
          "model_name": "DescriptionStyleModel",
          "model_module_version": "1.5.0",
          "state": {
            "_model_module": "@jupyter-widgets/controls",
            "_model_module_version": "1.5.0",
            "_model_name": "DescriptionStyleModel",
            "_view_count": null,
            "_view_module": "@jupyter-widgets/base",
            "_view_module_version": "1.2.0",
            "_view_name": "StyleView",
            "description_width": ""
          }
        },
        "4092a9f1e5c2479a9c36592cc720c7a1": {
          "model_module": "@jupyter-widgets/controls",
          "model_name": "DropdownModel",
          "model_module_version": "1.5.0",
          "state": {
            "_dom_classes": [],
            "_model_module": "@jupyter-widgets/controls",
            "_model_module_version": "1.5.0",
            "_model_name": "DropdownModel",
            "_options_labels": [
              "Demand",
              "Clean",
              "Fossil",
              "Gas and Other Fossil",
              "Hydro, Bioenergy and Other Renewables",
              "Renewables",
              "Wind and Solar",
              "Bioenergy",
              "Coal",
              "Gas",
              "Hydro",
              "Nuclear",
              "Other Fossil",
              "Solar",
              "Wind",
              "Total Generation",
              "Net Imports",
              "CO2 intensity",
              "Total emissions",
              "Other Renewables",
              "Day-ahead electricity price"
            ],
            "_view_count": null,
            "_view_module": "@jupyter-widgets/controls",
            "_view_module_version": "1.5.0",
            "_view_name": "DropdownView",
            "description": "Graph selection:",
            "description_tooltip": null,
            "disabled": false,
            "index": 2,
            "layout": "IPY_MODEL_e2a3d505e99d48f489bad4b5828a593d",
            "style": "IPY_MODEL_ff7a59f5d87b4244a843b6b31452ceb9"
          }
        },
        "e2a3d505e99d48f489bad4b5828a593d": {
          "model_module": "@jupyter-widgets/base",
          "model_name": "LayoutModel",
          "model_module_version": "1.2.0",
          "state": {
            "_model_module": "@jupyter-widgets/base",
            "_model_module_version": "1.2.0",
            "_model_name": "LayoutModel",
            "_view_count": null,
            "_view_module": "@jupyter-widgets/base",
            "_view_module_version": "1.2.0",
            "_view_name": "LayoutView",
            "align_content": null,
            "align_items": null,
            "align_self": null,
            "border": null,
            "bottom": null,
            "display": null,
            "flex": null,
            "flex_flow": null,
            "grid_area": null,
            "grid_auto_columns": null,
            "grid_auto_flow": null,
            "grid_auto_rows": null,
            "grid_column": null,
            "grid_gap": null,
            "grid_row": null,
            "grid_template_areas": null,
            "grid_template_columns": null,
            "grid_template_rows": null,
            "height": null,
            "justify_content": null,
            "justify_items": null,
            "left": null,
            "margin": null,
            "max_height": null,
            "max_width": null,
            "min_height": null,
            "min_width": null,
            "object_fit": null,
            "object_position": null,
            "order": null,
            "overflow": null,
            "overflow_x": null,
            "overflow_y": null,
            "padding": null,
            "right": null,
            "top": null,
            "visibility": null,
            "width": null
          }
        },
        "ff7a59f5d87b4244a843b6b31452ceb9": {
          "model_module": "@jupyter-widgets/controls",
          "model_name": "DescriptionStyleModel",
          "model_module_version": "1.5.0",
          "state": {
            "_model_module": "@jupyter-widgets/controls",
            "_model_module_version": "1.5.0",
            "_model_name": "DescriptionStyleModel",
            "_view_count": null,
            "_view_module": "@jupyter-widgets/base",
            "_view_module_version": "1.2.0",
            "_view_name": "StyleView",
            "description_width": ""
          }
        },
        "e250df7bd6234edd841b018ee71167e7": {
          "model_module": "@jupyter-widgets/controls",
          "model_name": "DropdownModel",
          "model_module_version": "1.5.0",
          "state": {
            "_dom_classes": [],
            "_model_module": "@jupyter-widgets/controls",
            "_model_module_version": "1.5.0",
            "_model_name": "DropdownModel",
            "_options_labels": [
              "TWh",
              "%",
              "mtCO2",
              "gCO2/kWh",
              "EUR/MWh"
            ],
            "_view_count": null,
            "_view_module": "@jupyter-widgets/controls",
            "_view_module_version": "1.5.0",
            "_view_name": "DropdownView",
            "description": "Unit selection:",
            "description_tooltip": null,
            "disabled": false,
            "index": 1,
            "layout": "IPY_MODEL_d9af5b1e71af40b9ae71dfc9e5b4b730",
            "style": "IPY_MODEL_0d62dea89fb94f0eb7d5d4628d0290a3"
          }
        },
        "d9af5b1e71af40b9ae71dfc9e5b4b730": {
          "model_module": "@jupyter-widgets/base",
          "model_name": "LayoutModel",
          "model_module_version": "1.2.0",
          "state": {
            "_model_module": "@jupyter-widgets/base",
            "_model_module_version": "1.2.0",
            "_model_name": "LayoutModel",
            "_view_count": null,
            "_view_module": "@jupyter-widgets/base",
            "_view_module_version": "1.2.0",
            "_view_name": "LayoutView",
            "align_content": null,
            "align_items": null,
            "align_self": null,
            "border": null,
            "bottom": null,
            "display": null,
            "flex": null,
            "flex_flow": null,
            "grid_area": null,
            "grid_auto_columns": null,
            "grid_auto_flow": null,
            "grid_auto_rows": null,
            "grid_column": null,
            "grid_gap": null,
            "grid_row": null,
            "grid_template_areas": null,
            "grid_template_columns": null,
            "grid_template_rows": null,
            "height": null,
            "justify_content": null,
            "justify_items": null,
            "left": null,
            "margin": null,
            "max_height": null,
            "max_width": null,
            "min_height": null,
            "min_width": null,
            "object_fit": null,
            "object_position": null,
            "order": null,
            "overflow": null,
            "overflow_x": null,
            "overflow_y": null,
            "padding": null,
            "right": null,
            "top": null,
            "visibility": null,
            "width": null
          }
        },
        "0d62dea89fb94f0eb7d5d4628d0290a3": {
          "model_module": "@jupyter-widgets/controls",
          "model_name": "DescriptionStyleModel",
          "model_module_version": "1.5.0",
          "state": {
            "_model_module": "@jupyter-widgets/controls",
            "_model_module_version": "1.5.0",
            "_model_name": "DescriptionStyleModel",
            "_view_count": null,
            "_view_module": "@jupyter-widgets/base",
            "_view_module_version": "1.2.0",
            "_view_name": "StyleView",
            "description_width": ""
          }
        }
      }
    }
  },
  "nbformat": 4,
  "nbformat_minor": 5
}